{
 "cells": [
  {
   "cell_type": "markdown",
   "id": "76fc6aa3-6501-467f-9685-79bbe33d8eff",
   "metadata": {},
   "source": [
    "### 1. Create this dictionary:\n",
    "**{0: 0, 1: 1, 2: 8, 3: 27, 4: 64}\n",
    " using a dictionary comprehension.**"
   ]
  },
  {
   "cell_type": "code",
   "execution_count": 17,
   "id": "e0dc9433",
   "metadata": {},
   "outputs": [
    {
     "name": "stdout",
     "output_type": "stream",
     "text": [
      "{0: 0, 1: 1, 2: 8, 3: 27, 4: 64}\n"
     ]
    }
   ],
   "source": [
    "dict_1={num:num**3 for num in range(0,5)}\n",
    "print(dict_1)"
   ]
  },
  {
   "cell_type": "markdown",
   "id": "4d499c8b-9a50-40c8-9e76-d5cc6bca4635",
   "metadata": {},
   "source": [
    "### 2. if the length of a word is even print \"even!\""
   ]
  },
  {
   "cell_type": "code",
   "execution_count": 18,
   "id": "2450d4df-7361-408e-a864-06143b116a5f",
   "metadata": {},
   "outputs": [],
   "source": [
    "st = 'Print every word in this sentence that has an even number of letters'"
   ]
  },
  {
   "cell_type": "code",
   "execution_count": 19,
   "id": "d2f135e3",
   "metadata": {},
   "outputs": [
    {
     "name": "stdout",
     "output_type": "stream",
     "text": [
      "word is EVEN\n",
      "in is EVEN\n",
      "this is EVEN\n",
      "sentence is EVEN\n",
      "that is EVEN\n",
      "an is EVEN\n",
      "even is EVEN\n",
      "number is EVEN\n",
      "of is EVEN\n"
     ]
    }
   ],
   "source": [
    "st_list =st.split(\" \")\n",
    "for i in st_list:\n",
    "    if len(i)%2==0:\n",
    "        print(\"{} is EVEN\".format(i))"
   ]
  },
  {
   "cell_type": "markdown",
   "id": "bc19e049-18b9-48c3-b321-40b108c4f95e",
   "metadata": {},
   "source": [
    "### 3. Generate Password: 17 characters , minimum 1 Uppercase, 1 lowercase, 1 digits and 2 minimun special characters"
   ]
  },
  {
   "cell_type": "code",
   "execution_count": 20,
   "id": "41a120fb",
   "metadata": {},
   "outputs": [],
   "source": [
    "import string\n",
    "import random"
   ]
  },
  {
   "cell_type": "code",
   "execution_count": 21,
   "id": "b62a0a16",
   "metadata": {},
   "outputs": [
    {
     "name": "stdout",
     "output_type": "stream",
     "text": [
      "Your Generated Password is :  !Aa&r#J0t:R1Omo}k\n"
     ]
    }
   ],
   "source": [
    "min_upper=random.choice(string.ascii_uppercase)\n",
    "min_lower=random.choice(string.ascii_lowercase)\n",
    "min_digit=random.choice(string.digits)\n",
    "special_list=\"!@#$%^&*\"\n",
    "special_char1=random.choice(special_list)\n",
    "special_char2=random.choice(special_list)\n",
    "#generating random 12 chars\n",
    "random_12=random.choices(string.printable,k=12)\n",
    "min_values=[min_upper,min_lower,min_digit,special_char1,special_char2]\n",
    "password_list=random_12+min_values\n",
    "\n",
    "random.shuffle(password_list)\n",
    "password=\"\"\n",
    "for i in password_list:\n",
    "    password+=i\n",
    "print(\"Your Generated Password is :  {}\".format(password))"
   ]
  },
  {
   "cell_type": "markdown",
   "id": "48cca1de-e507-4920-9caf-0b58e1d27f42",
   "metadata": {},
   "source": [
    "### 4. you are given a list which is [6, 15, 5, 3, 5, 14, 3, 202, 34, 235, 555, 6]. You have to sort it such that the seventh element is greatest of all, second element is greater than last element and second last element is not greater than sum of 8 and sixth element"
   ]
  },
  {
   "cell_type": "code",
   "execution_count": 22,
   "id": "154346e9",
   "metadata": {},
   "outputs": [
    {
     "name": "stdout",
     "output_type": "stream",
     "text": [
      "7\n",
      "10\n",
      "[6, 15, 5, 3, 5, 14, 555, 202, 34, 235, 3, 6]\n"
     ]
    }
   ],
   "source": [
    "list_1=[6, 15, 5, 3, 5, 14, 3, 202, 34, 235, 555, 6]\n",
    "max_el=max(list_1)\n",
    "list_1[7]\n",
    "print(list_1.index(202))\n",
    "print(list_1.index(max_el))\n",
    "list_1[6],list_1[10]=list_1[10],list_1[6]\n",
    "print(list_1)"
   ]
  },
  {
   "cell_type": "markdown",
   "id": "4cc065eb-e5c5-40ff-9d82-2b6f8f2f43a6",
   "metadata": {},
   "source": [
    "### 5. Write a program that prints the integers from 1 to 100. But for multiples of three print \"Fizz\" instead of the number, and for the multiples of five print \"Buzz\". For numbers which are multiples of both three and five print \"FizzBuzz\"."
   ]
  },
  {
   "cell_type": "code",
   "execution_count": 23,
   "id": "97900bf0",
   "metadata": {},
   "outputs": [
    {
     "name": "stdout",
     "output_type": "stream",
     "text": [
      "1\n",
      "2\n",
      "Fizz\n",
      "4\n",
      "Buzz\n",
      "Fizz\n",
      "7\n",
      "8\n",
      "Fizz\n",
      "Buzz\n",
      "11\n",
      "Fizz\n",
      "13\n",
      "14\n",
      "FizzBuzz\n",
      "15\n",
      "16\n",
      "17\n",
      "Fizz\n",
      "19\n",
      "Buzz\n",
      "Fizz\n",
      "22\n",
      "23\n",
      "Fizz\n",
      "Buzz\n",
      "26\n",
      "Fizz\n",
      "28\n",
      "29\n",
      "FizzBuzz\n",
      "30\n",
      "31\n",
      "32\n",
      "Fizz\n",
      "34\n",
      "Buzz\n",
      "Fizz\n",
      "37\n",
      "38\n",
      "Fizz\n",
      "Buzz\n",
      "41\n",
      "Fizz\n",
      "43\n",
      "44\n",
      "FizzBuzz\n",
      "45\n",
      "46\n",
      "47\n",
      "Fizz\n",
      "49\n",
      "Buzz\n",
      "Fizz\n",
      "52\n",
      "53\n",
      "Fizz\n",
      "Buzz\n",
      "56\n",
      "Fizz\n",
      "58\n",
      "59\n",
      "FizzBuzz\n",
      "60\n",
      "61\n",
      "62\n",
      "Fizz\n",
      "64\n",
      "Buzz\n",
      "Fizz\n",
      "67\n",
      "68\n",
      "Fizz\n",
      "Buzz\n",
      "71\n",
      "Fizz\n",
      "73\n",
      "74\n",
      "FizzBuzz\n",
      "75\n",
      "76\n",
      "77\n",
      "Fizz\n",
      "79\n",
      "Buzz\n",
      "Fizz\n",
      "82\n",
      "83\n",
      "Fizz\n",
      "Buzz\n",
      "86\n",
      "Fizz\n",
      "88\n",
      "89\n",
      "FizzBuzz\n",
      "90\n",
      "91\n",
      "92\n",
      "Fizz\n",
      "94\n",
      "Buzz\n",
      "Fizz\n",
      "97\n",
      "98\n",
      "Fizz\n"
     ]
    }
   ],
   "source": [
    "for i in range(1,100):\n",
    "    if i%15==0:\n",
    "        print(\"FizzBuzz\")\n",
    "    elif i%3 == 0:    \n",
    "        print(\"Fizz\")                                        \n",
    "        continue\n",
    "    elif i%5== 0:        \n",
    "        print(\"Buzz\")                                    \n",
    "        continue\n",
    "    print(i)"
   ]
  },
  {
   "cell_type": "markdown",
   "id": "42943a70-2349-4290-ac41-a5c1a5cc2ff0",
   "metadata": {},
   "source": [
    "### 6. Write a program that accepts a sentence and calculate the number of letters and digits. Suppose the following input is supplied to the program."
   ]
  },
  {
   "cell_type": "code",
   "execution_count": 24,
   "id": "167dd46c",
   "metadata": {},
   "outputs": [
    {
     "name": "stdout",
     "output_type": "stream",
     "text": [
      "Enter :yjsk77\n",
      "letters found- 4\n",
      "digits found- 2\n"
     ]
    }
   ],
   "source": [
    "all_digits = ['0', '1', '2', '3', '4', '5', '6', '7', '8', '9']\n",
    "all_letters = ['a', 'b', 'c', 'd', 'e', 'f', 'g', 'h', 'i', 'j', 'k', 'l',\n",
    "               'm', 'n', 'o', 'p', 'q', 'r', 's', 't', 'u', 'v', 'w', 'x', 'y', 'z']\n",
    "string = input(\"Enter :\")\n",
    "digits = 0\n",
    "letters = 0\n",
    "for s in string:\n",
    "    if s in all_digits:\n",
    "        digits += 1\n",
    "    elif s in all_letters:\n",
    "        letters += 1\n",
    " \n",
    "print(\"letters found-\", letters)\n",
    "print(\"digits found-\", digits)"
   ]
  },
  {
   "cell_type": "markdown",
   "id": "ee9e1ad1-842c-4fff-9ee2-55e24eb24701",
   "metadata": {},
   "source": [
    "### 7. Exercise: Write a program which takes 2 digits, X,Y as input and generates a 2-dimensional array. The element value in the i-th row and j-th column of the array should be i*j\n",
    "\n",
    "[[0, 0, 0, 0, 0],\n",
    " [0, 1, 2, 3, 4],\n",
    " [0, 2, 4, 6, 8]\n",
    " ..............]]"
   ]
  },
  {
   "cell_type": "code",
   "execution_count": 25,
   "id": "92e0a048",
   "metadata": {},
   "outputs": [
    {
     "ename": "SyntaxError",
     "evalue": "invalid non-printable character U+00A0 (2038947148.py, line 3)",
     "output_type": "error",
     "traceback": [
      "\u001b[1;36m  File \u001b[1;32m\"C:\\Users\\sodatta\\AppData\\Local\\Temp\\ipykernel_14532\\2038947148.py\"\u001b[1;36m, line \u001b[1;32m3\u001b[0m\n\u001b[1;33m    arr = [[0 for col in range(y)] for row in range(x)] for i in range(x):\u001b[0m\n\u001b[1;37m                                                       ^\u001b[0m\n\u001b[1;31mSyntaxError\u001b[0m\u001b[1;31m:\u001b[0m invalid non-printable character U+00A0\n"
     ]
    }
   ],
   "source": [
    "x = int(input(\"Input number of rows: \"))\n",
    "y = int(input(\"Input number of columns: \"))\n",
    "arr = [[0 for col in range(y)] for row in range(x)] for i in range(x):\n",
    "    for j in range(y):\n",
    "        arr[i][j]= i*j print(arr)"
   ]
  },
  {
   "cell_type": "markdown",
   "id": "f1efcf4a-bc10-4189-8228-3270b0cf1483",
   "metadata": {},
   "source": [
    "## 8. For this challenge,\n",
    "Create a bank account class that has two attributes:\n",
    "\n",
    "* owner \n",
    "* balance \n",
    "\n",
    "and two methods:\n",
    "\n",
    "* deposit \n",
    "* withdraw \n",
    "\n",
    "As an added requirement, withdrawals may not exceed the available balance.\n",
    "\n",
    "Instantiate your class, make several deposits and withdrawals, and test to make sure the account can't be overdrawn."
   ]
  },
  {
   "cell_type": "code",
   "execution_count": 26,
   "id": "4bb49197",
   "metadata": {},
   "outputs": [
    {
     "name": "stdout",
     "output_type": "stream",
     "text": [
      "Amount you wish to deposit:80000\n",
      "Datta New balance is 87000 \n"
     ]
    }
   ],
   "source": [
    "\n",
    "class bankAccount:\n",
    "    def __init__(self,balance,owner):\n",
    "        self.balance=balance\n",
    "        self.owner=owner\n",
    "    def deposit(self):\n",
    "        deposit_amount=int(input(\"Amount you wish to deposit:\"))\n",
    "        self.balance+=deposit_amount\n",
    "        print(\"{} New balance is {} \".format(self.owner,self.balance))\n",
    "    def withdraw(self):\n",
    "        withdraw_amount=int(input(\"Amount you wish to withdraw:\"))\n",
    "        if withdraw_amount>self.balance:\n",
    "            print(\"Insuffiencient Funds\")\n",
    "        else :\n",
    "            self.balance-=withdraw_amount\n",
    "            print(\"{} your Available balance is :{}\".format(self.owner,self.balance))\n",
    "\n",
    "bank1=bankAccount(7000,\"Datta\")\n",
    "bank1.deposit()"
   ]
  },
  {
   "cell_type": "code",
   "execution_count": 27,
   "id": "a7b56e38",
   "metadata": {},
   "outputs": [
    {
     "name": "stdout",
     "output_type": "stream",
     "text": [
      "Amount you wish to withdraw:8777\n",
      "Datta your Available balance is :78223\n"
     ]
    }
   ],
   "source": [
    "bank1.withdraw()\n"
   ]
  },
  {
   "cell_type": "code",
   "execution_count": null,
   "id": "42e77363",
   "metadata": {},
   "outputs": [],
   "source": []
  },
  {
   "cell_type": "code",
   "execution_count": null,
   "id": "f7d0090c",
   "metadata": {},
   "outputs": [],
   "source": []
  }
 ],
 "metadata": {
  "kernelspec": {
   "display_name": "Python 3 (ipykernel)",
   "language": "python",
   "name": "python3"
  },
  "language_info": {
   "codemirror_mode": {
    "name": "ipython",
    "version": 3
   },
   "file_extension": ".py",
   "mimetype": "text/x-python",
   "name": "python",
   "nbconvert_exporter": "python",
   "pygments_lexer": "ipython3",
   "version": "3.9.13"
  }
 },
 "nbformat": 4,
 "nbformat_minor": 5
}
