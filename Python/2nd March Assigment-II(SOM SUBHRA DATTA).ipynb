{
 "cells": [
  {
   "cell_type": "markdown",
   "id": "b9628d68",
   "metadata": {},
   "source": [
    "1. Create a python program to find duplicate files by content. User will \n",
    "input path and it will scan all directories, sub-directories to find all \n",
    "duplicates files.\n",
    "Delete the found duplicate file.\n",
    "[Hint: use hashlib]"
   ]
  },
  {
   "cell_type": "code",
   "execution_count": 12,
   "id": "faf3fedd",
   "metadata": {},
   "outputs": [
    {
     "name": "stdout",
     "output_type": "stream",
     "text": [
      "Enter your path :C:/Users/sodatta/OneDrive - ALLEGIS GROUP/Documents/Test/\n"
     ]
    },
    {
     "data": {
      "text/plain": [
       "['test1.txt', 'test2.txt']"
      ]
     },
     "execution_count": 12,
     "metadata": {},
     "output_type": "execute_result"
    }
   ],
   "source": [
    "import os\n",
    "path_p = input(\"Enter your path :\")\n",
    "files_list = os.listdir(path = path_p)\n",
    "files_list"
   ]
  },
  {
   "cell_type": "code",
   "execution_count": 13,
   "id": "ff42df55",
   "metadata": {},
   "outputs": [],
   "source": [
    "import hashlib\n",
    "list1=[]\n",
    "for i in files_list:\n",
    "    file_obj=open(path_p+i,'r')\n",
    "    content=file_obj.read()\n",
    "    file_obj.close()\n",
    "    encode_content=content.encode()\n",
    "    list1.append(hashlib.sha256(encode_content).hexdigest())"
   ]
  },
  {
   "cell_type": "code",
   "execution_count": 14,
   "id": "3e476a79",
   "metadata": {},
   "outputs": [
    {
     "data": {
      "text/plain": [
       "{'test1.txt': '66a045b452102c59d840ec097d59d9467e13a3f34f6494e539ffd32c1bb35f18',\n",
       " 'test2.txt': '185f8db32271fe25f561a6fc938b2e264306ec304eda518007d1764826381969'}"
      ]
     },
     "execution_count": 14,
     "metadata": {},
     "output_type": "execute_result"
    }
   ],
   "source": [
    "new_dic =dict(zip(files_list,list1))\n",
    "new_dic"
   ]
  },
  {
   "cell_type": "code",
   "execution_count": 1,
   "id": "ce11e10e",
   "metadata": {},
   "outputs": [
    {
     "ename": "NameError",
     "evalue": "name 'new_dic' is not defined",
     "output_type": "error",
     "traceback": [
      "\u001b[1;31m---------------------------------------------------------------------------\u001b[0m",
      "\u001b[1;31mNameError\u001b[0m                                 Traceback (most recent call last)",
      "\u001b[1;32m~\\AppData\\Local\\Temp\\ipykernel_1636\\35652782.py\u001b[0m in \u001b[0;36m<module>\u001b[1;34m\u001b[0m\n\u001b[1;32m----> 1\u001b[1;33m \u001b[1;32mfor\u001b[0m \u001b[0mi\u001b[0m \u001b[1;32min\u001b[0m \u001b[0mnew_dic\u001b[0m\u001b[1;33m:\u001b[0m\u001b[1;33m\u001b[0m\u001b[1;33m\u001b[0m\u001b[0m\n\u001b[0m\u001b[0;32m      2\u001b[0m     \u001b[0mprint\u001b[0m\u001b[1;33m(\u001b[0m\u001b[0mi\u001b[0m\u001b[1;33m)\u001b[0m\u001b[1;33m\u001b[0m\u001b[1;33m\u001b[0m\u001b[0m\n",
      "\u001b[1;31mNameError\u001b[0m: name 'new_dic' is not defined"
     ]
    }
   ],
   "source": [
    "for i in new_dic:\n",
    "    print(i)"
   ]
  },
  {
   "cell_type": "code",
   "execution_count": null,
   "id": "4f11c2ee",
   "metadata": {},
   "outputs": [],
   "source": []
  },
  {
   "cell_type": "code",
   "execution_count": 16,
   "id": "9bf3ab57",
   "metadata": {},
   "outputs": [
    {
     "name": "stdout",
     "output_type": "stream",
     "text": [
      "C:/Users/sodatta/OneDrive - ALLEGIS GROUP/Documents/Test/test1.txt\n",
      "C:/Users/sodatta/OneDrive - ALLEGIS GROUP/Documents/Test/test2.txt\n"
     ]
    }
   ],
   "source": [
    "for i in new_dic:\n",
    "    file_path=i\n",
    "    abc_path = os.path.join(path_p,file_path)\n",
    "    print(abc_path)"
   ]
  },
  {
   "cell_type": "code",
   "execution_count": 17,
   "id": "7d3e2e5d",
   "metadata": {},
   "outputs": [],
   "source": [
    "for i in new_dic:\n",
    "    file_path=i\n",
    "    abc_path = os.path.join(path_p,file_path)\n",
    "    os.remove(abc_path)"
   ]
  },
  {
   "cell_type": "code",
   "execution_count": 18,
   "id": "924bdae3",
   "metadata": {},
   "outputs": [
    {
     "data": {
      "text/plain": [
       "[]"
      ]
     },
     "execution_count": 18,
     "metadata": {},
     "output_type": "execute_result"
    }
   ],
   "source": [
    "os.listdir(path_p)"
   ]
  },
  {
   "cell_type": "markdown",
   "id": "1ee63494",
   "metadata": {},
   "source": [
    "2. Generate random Password with exact length = 6, with minimum 1 \n",
    "uppercase, 2 lowercase, 2 digits, and remaining special characters.\n",
    "Using these packages [random, strings]"
   ]
  },
  {
   "cell_type": "code",
   "execution_count": 19,
   "id": "78bb4fb9",
   "metadata": {},
   "outputs": [],
   "source": [
    "import random\n",
    "import string"
   ]
  },
  {
   "cell_type": "code",
   "execution_count": 28,
   "id": "14392949",
   "metadata": {},
   "outputs": [
    {
     "name": "stdout",
     "output_type": "stream",
     "text": [
      "Your random generated password is :@z21Mf\n"
     ]
    }
   ],
   "source": [
    "random_lowercase1=random.choice(string.ascii_lowercase)\n",
    "random_lowercase2=random.choice(string.ascii_lowercase)\n",
    "random_uppercase=random.choice(string.ascii_uppercase)\n",
    "digit1=random.randint(0,9)\n",
    "digit2=random.randint(0,9)\n",
    "special_list=\"!@#$%^&*\"\n",
    "random_1=random.choices(special_list,k=1)\n",
    "\n",
    "password_list=[random_lowercase1,random_lowercase2,random_uppercase,str(digit1),str(digit2),random_1[0]]\n",
    "\n",
    "random.shuffle(password_list)\n",
    "password=\"\"\n",
    "\n",
    "for i in password_list:\n",
    "    password+=i\n",
    "print(\"Your random generated password is :{}\".format(password))"
   ]
  },
  {
   "cell_type": "markdown",
   "id": "16ac3c5a",
   "metadata": {},
   "source": [
    "8. Create a given Matrix:\n",
    "[  A,     B,     C,       D\n",
    "   E,      F,     G,       H\n",
    "    I,      a,      K,       L\n",
    "   M,    N,     o,       P\n",
    "   Q,     R,      S,       T\n",
    "   U,     0,     W,      O ]\n",
    "Replace all the vowels by np.nan\n",
    "A, E, I, O U  -- >  np.nan\n",
    "Return the count of the missing values"
   ]
  },
  {
   "cell_type": "code",
   "execution_count": 40,
   "id": "d304c6e6",
   "metadata": {},
   "outputs": [],
   "source": [
    "import numpy as np\n",
    "arr_1=np.array([['a','b','c','d'],\n",
    "               ['e','f','g','h'],\n",
    "               ['i','j','k','l'],\n",
    "               ['m','n','o','p'],\n",
    "               ['q','r','s','t'],\n",
    "               ['u','v','w','x']\n",
    "              ])"
   ]
  },
  {
   "cell_type": "code",
   "execution_count": 41,
   "id": "c9b2e313",
   "metadata": {},
   "outputs": [
    {
     "data": {
      "text/plain": [
       "(6, 4)"
      ]
     },
     "execution_count": 41,
     "metadata": {},
     "output_type": "execute_result"
    }
   ],
   "source": [
    "arr_1.shape"
   ]
  },
  {
   "cell_type": "code",
   "execution_count": 42,
   "id": "29e8b6c3",
   "metadata": {},
   "outputs": [],
   "source": [
    "list1=['a','e','i','o','u']"
   ]
  },
  {
   "cell_type": "code",
   "execution_count": 43,
   "id": "a2b2c0d7",
   "metadata": {},
   "outputs": [
    {
     "name": "stdout",
     "output_type": "stream",
     "text": [
      "a\n",
      "e\n",
      "i\n",
      "o\n",
      "u\n",
      "0\n"
     ]
    }
   ],
   "source": [
    "for i in range(0,6):\n",
    "    for j in range(0,4):\n",
    "        if arr_1[i][j] in list1:\n",
    "            print(arr_1[i][j])\n",
    "            arr_1[i][j]=np.nan\n",
    "count=0\n",
    "for i in range(0,6):\n",
    "    for j in range(0,4):\n",
    "        if arr_1[i][j]==np.nan:\n",
    "            count=count+1\n",
    "print(count)"
   ]
  },
  {
   "cell_type": "code",
   "execution_count": 44,
   "id": "80cdd4f7",
   "metadata": {},
   "outputs": [
    {
     "data": {
      "text/plain": [
       "array([['n', 'b', 'c', 'd'],\n",
       "       ['n', 'f', 'g', 'h'],\n",
       "       ['n', 'j', 'k', 'l'],\n",
       "       ['m', 'n', 'n', 'p'],\n",
       "       ['q', 'r', 's', 't'],\n",
       "       ['n', 'v', 'w', 'x']], dtype='<U1')"
      ]
     },
     "execution_count": 44,
     "metadata": {},
     "output_type": "execute_result"
    }
   ],
   "source": [
    "arr_1"
   ]
  },
  {
   "cell_type": "markdown",
   "id": "d587ff47",
   "metadata": {},
   "source": [
    "5.Given two arrays, find their intersection. Examples:\n",
    "Input:  arr1[] = [1, 3, 4, 5, 7]\n",
    "             arr2[] = [2, 3, 5, 6]"
   ]
  },
  {
   "cell_type": "code",
   "execution_count": 54,
   "id": "6e9c1987",
   "metadata": {},
   "outputs": [
    {
     "name": "stdout",
     "output_type": "stream",
     "text": [
      "The intersection is [3 5]\n"
     ]
    }
   ],
   "source": [
    "arr2=np.array([1,3,4,5,7])\n",
    "arr3=np.array([2,3,5,6])\n",
    "intersection1=np.intersect1d(arr2,arr3)\n",
    "print(\"The intersection is\",intersection1)"
   ]
  },
  {
   "cell_type": "markdown",
   "id": "0222ff7c",
   "metadata": {},
   "source": [
    "6.Create a 7 x 7 2D array having only multiples of 7. And return the last element of the same"
   ]
  },
  {
   "cell_type": "code",
   "execution_count": 73,
   "id": "ec313d89",
   "metadata": {},
   "outputs": [],
   "source": [
    "import numpy as np\n",
    "arr_4 =np.arange(0,49).reshape(7,7)\n",
    "arr_4*=7"
   ]
  },
  {
   "cell_type": "code",
   "execution_count": 74,
   "id": "2742c225",
   "metadata": {},
   "outputs": [
    {
     "data": {
      "text/plain": [
       "array([[  0,   7,  14,  21,  28,  35,  42],\n",
       "       [ 49,  56,  63,  70,  77,  84,  91],\n",
       "       [ 98, 105, 112, 119, 126, 133, 140],\n",
       "       [147, 154, 161, 168, 175, 182, 189],\n",
       "       [196, 203, 210, 217, 224, 231, 238],\n",
       "       [245, 252, 259, 266, 273, 280, 287],\n",
       "       [294, 301, 308, 315, 322, 329, 336]])"
      ]
     },
     "execution_count": 74,
     "metadata": {},
     "output_type": "execute_result"
    }
   ],
   "source": [
    "arr_4"
   ]
  },
  {
   "cell_type": "code",
   "execution_count": 75,
   "id": "1629187a",
   "metadata": {},
   "outputs": [
    {
     "data": {
      "text/plain": [
       "336"
      ]
     },
     "execution_count": 75,
     "metadata": {},
     "output_type": "execute_result"
    }
   ],
   "source": [
    "arr_4[-1,-1] # return the last element of the 2d array"
   ]
  },
  {
   "cell_type": "markdown",
   "id": "4bf4d1df",
   "metadata": {},
   "source": [
    "7. Checker Board Patten using Numpy:\n",
    "\n",
    "\n",
    "   [   1   0   1   0   1   0   1\n",
    "   \n",
    "    0   1   0   1   0   1   0\n",
    "    \n",
    "    1   0   1   0   1   0   1\n",
    "    \n",
    "    0   1   0   1   0   1   0\n",
    "    \n",
    "    1   0   1   0   1   0   1  ]"
   ]
  },
  {
   "cell_type": "code",
   "execution_count": 66,
   "id": "0e97ab3d",
   "metadata": {},
   "outputs": [
    {
     "name": "stdout",
     "output_type": "stream",
     "text": [
      "Enter value:10\n",
      "[[1 0 1 0 1 0 1 0 1 0]\n",
      " [0 1 0 1 0 1 0 1 0 1]\n",
      " [1 0 1 0 1 0 1 0 1 0]\n",
      " [0 1 0 1 0 1 0 1 0 1]\n",
      " [1 0 1 0 1 0 1 0 1 0]\n",
      " [0 1 0 1 0 1 0 1 0 1]\n",
      " [1 0 1 0 1 0 1 0 1 0]\n",
      " [0 1 0 1 0 1 0 1 0 1]\n",
      " [1 0 1 0 1 0 1 0 1 0]\n",
      " [0 1 0 1 0 1 0 1 0 1]]\n"
     ]
    }
   ],
   "source": [
    "n3=int(input(\"Enter value:\"))\n",
    "arr_3= np.ones((n3, n3),dtype=\"int16\")\n",
    "arr_3[1::2, ::2] = 0\n",
    "arr_3[::2, 1::2] = 0\n",
    "print(arr_3)"
   ]
  },
  {
   "cell_type": "markdown",
   "id": "1c923254",
   "metadata": {},
   "source": [
    "4.Python program to get the sum of every cubed value and its previous \n",
    "integer. "
   ]
  },
  {
   "cell_type": "code",
   "execution_count": 4,
   "id": "f00fc254",
   "metadata": {},
   "outputs": [
    {
     "name": "stdout",
     "output_type": "stream",
     "text": [
      "Enter Number :78\n",
      "9018009\n",
      "18036017\n",
      "9018086\n"
     ]
    }
   ],
   "source": [
    "num = int(input(\"Enter Number :\"))\n",
    "cube=0\n",
    "for i in range(1,num):\n",
    "    k=num-1\n",
    "    cube += (i**3)\n",
    "print(cube)\n",
    "print((cube)+(cube-1))\n",
    "print(cube+k)"
   ]
  },
  {
   "cell_type": "markdown",
   "id": "e2f3b6db",
   "metadata": {},
   "source": [
    "Create 2D array and update the same 2D array provided that every \n",
    "prime number position should be replaced by cube of the positioned \n",
    "number."
   ]
  },
  {
   "cell_type": "code",
   "execution_count": 52,
   "id": "09e9e66e",
   "metadata": {},
   "outputs": [
    {
     "name": "stdout",
     "output_type": "stream",
     "text": [
      "Give your start value :0\n",
      "Give your end value :9\n"
     ]
    },
    {
     "data": {
      "text/plain": [
       "array([[0, 1, 2],\n",
       "       [3, 4, 5],\n",
       "       [6, 7, 8]])"
      ]
     },
     "execution_count": 52,
     "metadata": {},
     "output_type": "execute_result"
    }
   ],
   "source": [
    "import numpy as np\n",
    "import sympy\n",
    "n1,n2=int(input(\"Give your start value :\")),int(input(\"Give your end value :\"))\n",
    "arr_6 = np.arange(n1,n2).reshape(3,3)\n",
    "arr_6"
   ]
  },
  {
   "cell_type": "code",
   "execution_count": 53,
   "id": "e2b2b751",
   "metadata": {},
   "outputs": [],
   "source": [
    "# reshaping the input into 1d array\n",
    "arr_shape = arr_6.reshape(9)"
   ]
  },
  {
   "cell_type": "code",
   "execution_count": 54,
   "id": "9dd6377d",
   "metadata": {},
   "outputs": [
    {
     "data": {
      "text/plain": [
       "array([0, 1, 2, 3, 4, 5, 6, 7, 8])"
      ]
     },
     "execution_count": 54,
     "metadata": {},
     "output_type": "execute_result"
    }
   ],
   "source": [
    "arr_shape"
   ]
  },
  {
   "cell_type": "code",
   "execution_count": 55,
   "id": "afada39b",
   "metadata": {},
   "outputs": [],
   "source": [
    "for i in range(len(arr_shape)):\n",
    "    if sympy.isprime(arr_shape[i]):\n",
    "        arr_shape[i]=arr_shape[i]**3"
   ]
  },
  {
   "cell_type": "code",
   "execution_count": 56,
   "id": "8ce56857",
   "metadata": {},
   "outputs": [
    {
     "data": {
      "text/plain": [
       "array([  0,   1,   8,  27,   4, 125,   6, 343,   8])"
      ]
     },
     "execution_count": 56,
     "metadata": {},
     "output_type": "execute_result"
    }
   ],
   "source": [
    "arr_shape"
   ]
  },
  {
   "cell_type": "code",
   "execution_count": 57,
   "id": "83674e2e",
   "metadata": {},
   "outputs": [],
   "source": [
    "final_array=arr_shape.reshape(3,3)"
   ]
  },
  {
   "cell_type": "code",
   "execution_count": 64,
   "id": "b1907958",
   "metadata": {},
   "outputs": [
    {
     "name": "stdout",
     "output_type": "stream",
     "text": [
      "[[  0   1   8]\n",
      " [ 27   4 125]\n",
      " [  6 343   8]]\n"
     ]
    }
   ],
   "source": [
    "print(final_array)"
   ]
  },
  {
   "cell_type": "code",
   "execution_count": null,
   "id": "efeaeae9",
   "metadata": {},
   "outputs": [],
   "source": []
  },
  {
   "cell_type": "code",
   "execution_count": null,
   "id": "1c168dbb",
   "metadata": {},
   "outputs": [],
   "source": []
  }
 ],
 "metadata": {
  "kernelspec": {
   "display_name": "Python 3 (ipykernel)",
   "language": "python",
   "name": "python3"
  },
  "language_info": {
   "codemirror_mode": {
    "name": "ipython",
    "version": 3
   },
   "file_extension": ".py",
   "mimetype": "text/x-python",
   "name": "python",
   "nbconvert_exporter": "python",
   "pygments_lexer": "ipython3",
   "version": "3.9.13"
  }
 },
 "nbformat": 4,
 "nbformat_minor": 5
}
