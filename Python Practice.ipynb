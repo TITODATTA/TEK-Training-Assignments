{
 "cells": [
  {
   "cell_type": "markdown",
   "id": "29086668",
   "metadata": {},
   "source": [
    "1. Create a python program , find duplicate files by content . User will input path and it will scan all directories ,subdirectories to find duplicate files.\n",
    "2. Delete the duplicate files "
   ]
  },
  {
   "cell_type": "code",
   "execution_count": 4,
   "id": "ae907324",
   "metadata": {},
   "outputs": [],
   "source": [
    "import random\n",
    "import string"
   ]
  },
  {
   "cell_type": "code",
   "execution_count": 65,
   "id": "b230bb76",
   "metadata": {
    "scrolled": true
   },
   "outputs": [
    {
     "name": "stdout",
     "output_type": "stream",
     "text": [
      "After Shuffle\n",
      "['6', 'K', 'r', 'n', '4', '9']\n",
      "6Krn49\n"
     ]
    }
   ],
   "source": [
    "random_lowercase1=random.choice(string.ascii_lowercase)\n",
    "random_lowercase2=random.choice(string.ascii_lowercase)\n",
    "random_uppercase=random.choice(string.ascii_uppercase)\n",
    "digit1=random.randint(0,9)\n",
    "digit2=random.randint(0,9)\n",
    "digit3=random.randint(0,9)\n",
    "\n",
    "pass_list=[random_lowercase1,random_lowercase2,random_uppercase,str(digit1),str(digit2),str(digit3)]\n",
    "random.shuffle(pass_list)\n",
    "print(\"After Shuffle\")\n",
    "print(pass_list)\n",
    "\n",
    "password=\"\"\n",
    "\n",
    "for i in pass_list:\n",
    "    password+=i\n",
    "\n",
    "print(password)"
   ]
  },
  {
   "cell_type": "code",
   "execution_count": 77,
   "id": "f59b9f29",
   "metadata": {},
   "outputs": [
    {
     "data": {
      "text/plain": [
       "'ABCDEFGHIJKLMNOPQRSTUVWXYZ'"
      ]
     },
     "execution_count": 77,
     "metadata": {},
     "output_type": "execute_result"
    }
   ],
   "source": [
    "string.ascii_uppercase"
   ]
  },
  {
   "cell_type": "code",
   "execution_count": 82,
   "id": "11b844ab",
   "metadata": {},
   "outputs": [],
   "source": [
    "import os"
   ]
  },
  {
   "cell_type": "code",
   "execution_count": 92,
   "id": "2859434f",
   "metadata": {},
   "outputs": [
    {
     "name": "stdout",
     "output_type": "stream",
     "text": [
      "Path:C:/Users/sodatta/OneDrive - ALLEGIS GROUP/Documents/Test/\n"
     ]
    },
    {
     "data": {
      "text/plain": [
       "['New Text Document (2).txt', 'New Text Document.txt']"
      ]
     },
     "execution_count": 92,
     "metadata": {},
     "output_type": "execute_result"
    }
   ],
   "source": [
    "path = input(\"Path:\")\n",
    "files = os.listdir(path)\n",
    "files"
   ]
  },
  {
   "cell_type": "code",
   "execution_count": 93,
   "id": "d91ad68b",
   "metadata": {},
   "outputs": [
    {
     "ename": "FileNotFoundError",
     "evalue": "[Errno 2] No such file or directory: 'New Text Document (2).txt'",
     "output_type": "error",
     "traceback": [
      "\u001b[1;31m---------------------------------------------------------------------------\u001b[0m",
      "\u001b[1;31mFileNotFoundError\u001b[0m                         Traceback (most recent call last)",
      "\u001b[1;32m~\\AppData\\Local\\Temp\\ipykernel_2056\\1205013928.py\u001b[0m in \u001b[0;36m<module>\u001b[1;34m\u001b[0m\n\u001b[0;32m      2\u001b[0m \u001b[0mlist1\u001b[0m \u001b[1;33m=\u001b[0m \u001b[1;33m[\u001b[0m\u001b[1;33m]\u001b[0m\u001b[1;33m\u001b[0m\u001b[1;33m\u001b[0m\u001b[0m\n\u001b[0;32m      3\u001b[0m \u001b[1;32mfor\u001b[0m \u001b[0mi\u001b[0m \u001b[1;32min\u001b[0m \u001b[0mfiles\u001b[0m\u001b[1;33m:\u001b[0m\u001b[1;33m\u001b[0m\u001b[1;33m\u001b[0m\u001b[0m\n\u001b[1;32m----> 4\u001b[1;33m     \u001b[0mfile_obj\u001b[0m \u001b[1;33m=\u001b[0m \u001b[0mopen\u001b[0m\u001b[1;33m(\u001b[0m\u001b[0mi\u001b[0m\u001b[1;33m,\u001b[0m\u001b[1;34m'r'\u001b[0m\u001b[1;33m)\u001b[0m\u001b[1;33m\u001b[0m\u001b[1;33m\u001b[0m\u001b[0m\n\u001b[0m\u001b[0;32m      5\u001b[0m     \u001b[1;31m#print(file_obj.read())\u001b[0m\u001b[1;33m\u001b[0m\u001b[1;33m\u001b[0m\u001b[0m\n\u001b[0;32m      6\u001b[0m     \u001b[0mcontent\u001b[0m \u001b[1;33m=\u001b[0m \u001b[0mfile_obj\u001b[0m\u001b[1;33m.\u001b[0m\u001b[0mread\u001b[0m\u001b[1;33m(\u001b[0m\u001b[1;33m)\u001b[0m\u001b[1;33m\u001b[0m\u001b[1;33m\u001b[0m\u001b[0m\n",
      "\u001b[1;31mFileNotFoundError\u001b[0m: [Errno 2] No such file or directory: 'New Text Document (2).txt'"
     ]
    }
   ],
   "source": [
    "import hashlib\n",
    "list1 = []\n",
    "for i in files:\n",
    "    file_obj = open(i,'r')\n",
    "    #print(file_obj.read())\n",
    "    content = file_obj.read()\n",
    "    #print(content)\n",
    "    file_obj.close()\n",
    "    encode_content = content.encode()\n",
    "    list1.append(hashlib.sha256(encode_content).hexdigest())"
   ]
  },
  {
   "cell_type": "code",
   "execution_count": 89,
   "id": "71656e8d",
   "metadata": {},
   "outputs": [],
   "source": [
    "new_dic={}\n",
    "from collections import Counter\n",
    "counts = Counter(new_dic.values())\n",
    "result = {k: v for k, v in new_dic.items() if counts[v] > 1}"
   ]
  },
  {
   "cell_type": "code",
   "execution_count": 90,
   "id": "1f017084",
   "metadata": {},
   "outputs": [],
   "source": [
    "for i in result:\n",
    "    file_path = i\n",
    "    abc_path = os.path.join(path_p,file_path)\n",
    "    os.remove(abc_path)"
   ]
  },
  {
   "cell_type": "code",
   "execution_count": null,
   "id": "3f507d48",
   "metadata": {},
   "outputs": [],
   "source": []
  }
 ],
 "metadata": {
  "kernelspec": {
   "display_name": "Python 3 (ipykernel)",
   "language": "python",
   "name": "python3"
  },
  "language_info": {
   "codemirror_mode": {
    "name": "ipython",
    "version": 3
   },
   "file_extension": ".py",
   "mimetype": "text/x-python",
   "name": "python",
   "nbconvert_exporter": "python",
   "pygments_lexer": "ipython3",
   "version": "3.9.13"
  }
 },
 "nbformat": 4,
 "nbformat_minor": 5
}
